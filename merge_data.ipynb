{
 "cells": [
  {
   "cell_type": "code",
   "execution_count": 1,
   "metadata": {},
   "outputs": [],
   "source": [
    "import pandas as pd"
   ]
  },
  {
   "cell_type": "code",
   "execution_count": 2,
   "metadata": {},
   "outputs": [],
   "source": [
    "df_rent = pd.read_csv('averageRentPerZipCode.csv')\n",
    "rent_map = df_rent.set_index('zipCode').to_dict()['Rent']"
   ]
  },
  {
   "cell_type": "code",
   "execution_count": 3,
   "metadata": {},
   "outputs": [],
   "source": [
    "df_zip = pd.read_csv('zipCodePerCity.csv')\n",
    "df_zip['Zipcodes'] = df_zip['Zipcodes'].str.split(',')\n",
    "df_zip['Zipcodes'] = df_zip['Zipcodes'].apply(lambda d: [int(x) for x in d])"
   ]
  },
  {
   "cell_type": "code",
   "execution_count": 4,
   "metadata": {},
   "outputs": [],
   "source": [
    "def cal_avg_rent(d):\n",
    "    rents = []\n",
    "    for zipcode in d:\n",
    "        if zipcode in rent_map:\n",
    "            rents.append(rent_map[zipcode])\n",
    "    if len(rents) < 1:\n",
    "        return 0\n",
    "    return sum(rents)/len(rents)"
   ]
  },
  {
   "cell_type": "code",
   "execution_count": 5,
   "metadata": {},
   "outputs": [],
   "source": [
    "df_zip['AvgRent'] = df_zip['Zipcodes'].apply(cal_avg_rent)"
   ]
  },
  {
   "cell_type": "code",
   "execution_count": 6,
   "metadata": {},
   "outputs": [],
   "source": [
    "df_zip = df_zip[['City', 'State', 'AvgRent']]"
   ]
  },
  {
   "cell_type": "code",
   "execution_count": 7,
   "metadata": {},
   "outputs": [],
   "source": [
    "df_zip.to_csv('averageRentPerCity.csv')"
   ]
  }
 ],
 "metadata": {
  "kernelspec": {
   "display_name": "Python 3",
   "language": "python",
   "name": "python3"
  },
  "language_info": {
   "codemirror_mode": {
    "name": "ipython",
    "version": 3
   },
   "file_extension": ".py",
   "mimetype": "text/x-python",
   "name": "python",
   "nbconvert_exporter": "python",
   "pygments_lexer": "ipython3",
   "version": "3.6.9"
  }
 },
 "nbformat": 4,
 "nbformat_minor": 2
}
